{
 "cells": [
  {
   "cell_type": "code",
   "execution_count": 1,
   "metadata": {},
   "outputs": [],
   "source": [
    "mapping = { # so that model names become [CogView, Flux, Ghibli, StableDiffusion]\n",
    "    \"openfree/flux-chatgpt-ghibli-lora\": \"Ghibli\",\n",
    "    \"stable-diffusion-v1-5/stable-diffusion-v1-5\": \"StblDffsn\",\n",
    "    \"stabilityai/stable-diffusion-3.5-large-turbo\": \"StblDffsn_lrg\",\n",
    "    \"THUDM/CogView4-6B\": \"CogView\",\n",
    "    \"black-forest-labs/FLUX.1-dev\": \"Flux\",\n",
    "    \"PixArt-alpha/PixArt-XL-2-1024-MS\": \"PixArt\",\n",
    "    \"playgroundai/playground-v2.5-1024px-aesthetic\":\"playground\",\n",
    "    \"aipicasso/emi\": \"emi\",\n",
    "    \"ali-vilab/In-Context-LoRA\": \"Context_LoRA\",\n",
    "    \"Efficient-Large-Model/Sana_Sprint_1.6B_1024px_diffusers\": \"Sana_Sprint\",\n",
    "    \"ByteDance/Hyper-SD\": \"Hyper_SD\",\n",
    "    \"Kwai-Kolors/Kolors\":\"Kolors\",\n",
    "    \"Alpha-VLLM/Lumina-Image-2.0\": \"Lumina\",\n",
    "    \"etri-vilab/koala-700m-llava-cap\":\"koala\",\n",
    "}"
   ]
  },
  {
   "cell_type": "code",
   "execution_count": 2,
   "metadata": {},
   "outputs": [
    {
     "name": "stdout",
     "output_type": "stream",
     "text": [
      "['Ghibli', 'StblDffsn', 'StblDffsn_lrg', 'CogView', 'Flux', 'PixArt', 'playground', 'emi', 'Context_LoRA', 'Sana_Sprint', 'Hyper_SD', 'Kolors', 'Lumina', 'koala']\n"
     ]
    }
   ],
   "source": [
    "# print(mapping)\n",
    "list_of_models = list(mapping.values())\n",
    "print(list_of_models)"
   ]
  },
  {
   "cell_type": "code",
   "execution_count": 23,
   "metadata": {},
   "outputs": [
    {
     "name": "stdout",
     "output_type": "stream",
     "text": [
      "Ghibli: 26 files\n",
      "Ghibli_Metadata: 26 files\n",
      "StblDffsn: 26 files\n",
      "StblDffsn_Metadata: 26 files\n",
      "StblDffsn_lrg: 26 files\n",
      "StblDffsn_lrg_Metadata: 26 files\n",
      "CogView: 26 files\n",
      "CogView_Metadata: 26 files\n",
      "Flux: 26 files\n",
      "Flux_Metadata: 26 files\n",
      "PixArt: 0 files\n",
      "PixArt_Metadata: 0 files\n",
      "playground: 26 files\n",
      "playground_Metadata: 26 files\n",
      "emi: 21 files\n",
      "emi_Metadata: 22 files\n",
      "Context_LoRA: 26 files\n",
      "Context_LoRA_Metadata: 26 files\n",
      "Sana_Sprint: 26 files\n",
      "Sana_Sprint_Metadata: 26 files\n",
      "Hyper_SD: Directory does not exist\n",
      "Kolors: 26 files\n",
      "Kolors_Metadata: 26 files\n",
      "Lumina: 26 files\n",
      "Lumina_Metadata: 26 files\n",
      "koala: 20 files\n",
      "koala_Metadata: 20 files\n"
     ]
    }
   ],
   "source": [
    "import os\n",
    "\n",
    "incomplete_files = []\n",
    "\n",
    "for model in list_of_models:\n",
    "    path = f\"image_generated/{model}\"\n",
    "    path_Metadata = f\"image_generated/{model}_Metadata\"\n",
    "    \n",
    "    if os.path.exists(path):\n",
    "        num_files = len(os.listdir(path))\n",
    "        print(f\"{model}: {num_files} files\")\n",
    "        if num_files < 26:\n",
    "            incomplete_files.append(model)\n",
    "        \n",
    "        if os.path.exists(path_Metadata):\n",
    "            num_files_metadata = len(os.listdir(path_Metadata))\n",
    "            print(f\"{model}_Metadata: {num_files_metadata} files\")\n",
    "            if num_files_metadata < 26:\n",
    "                incomplete_files.append(f\"{model}_Metadata\")\n",
    "    else:\n",
    "        print(f\"{model}: Directory does not exist\")"
   ]
  },
  {
   "cell_type": "code",
   "execution_count": 26,
   "metadata": {},
   "outputs": [
    {
     "name": "stdout",
     "output_type": "stream",
     "text": [
      "Incomplete files:\n",
      "PixArt\n",
      "PixArt_Metadata\n",
      "emi\n",
      "emi_Metadata\n",
      "koala\n",
      "koala_Metadata\n"
     ]
    }
   ],
   "source": [
    "print(\"Incomplete files:\")\n",
    "for model in incomplete_files:\n",
    "    print(model)"
   ]
  },
  {
   "cell_type": "code",
   "execution_count": null,
   "metadata": {},
   "outputs": [],
   "source": []
  }
 ],
 "metadata": {
  "kernelspec": {
   "display_name": "1env",
   "language": "python",
   "name": "python3"
  },
  "language_info": {
   "codemirror_mode": {
    "name": "ipython",
    "version": 3
   },
   "file_extension": ".py",
   "mimetype": "text/x-python",
   "name": "python",
   "nbconvert_exporter": "python",
   "pygments_lexer": "ipython3",
   "version": "3.8.10"
  }
 },
 "nbformat": 4,
 "nbformat_minor": 2
}
