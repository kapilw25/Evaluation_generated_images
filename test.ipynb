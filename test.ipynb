{
 "cells": [
  {
   "cell_type": "code",
   "execution_count": 30,
   "metadata": {},
   "outputs": [
    {
     "name": "stdout",
     "output_type": "stream",
     "text": [
      "image_key:  MEN-Denim-id_00000089-28_1_front.jpg\n",
      "image 'MEN-Denim-id_00000089-28_1_front.jpg' exists in captions_sample\n",
      "list of 'model' for the given 'image_key_mapped':\n",
      "['Ghibli' 'Ghibli_Metadata' 'StableDiffusion' 'StableDiffusion_Metadata'\n",
      " 'CogView' 'CogView_Metadata' 'Flux' 'Flux_Metadata']\n"
     ]
    }
   ],
   "source": [
    "import pandas as pd\n",
    "\n",
    "gen_img_metadata = \"image_generated/gen_img_metadata.csv\"\n",
    "captions_sample = \"DeepFashion/captions_sample.csv\"\n",
    "\n",
    "prompt = \"This gentleman is wearing a medium-sleeve shirt with pure color patterns. The shirt is with cotton fabric and its neckline is lapel. This gentleman wears a long trousers. The trousers are with cotton fabric and solid color patterns.\"\n",
    "df_gen_img_metadata = pd.read_csv(gen_img_metadata)\n",
    "image_key_mapped = df_gen_img_metadata[df_gen_img_metadata[\"prompt\"] == prompt][\"image_key\"].unique()[0]\n",
    "print(\"image_key: \", image_key_mapped)\n",
    "\n",
    "# check if image_key_mapped exists in the captions_sample\n",
    "df_captions_sample = pd.read_csv(captions_sample)\n",
    "if image_key_mapped in df_captions_sample[\"image_key\"].values:\n",
    "    print(f\"image '{image_key_mapped}' exists in captions_sample\")\n",
    "\n",
    "\n",
    "mapped_models = df_gen_img_metadata[df_gen_img_metadata[\"image_key\"] == image_key_mapped][\"model\"].unique()\n",
    "print(\"list of 'model' for the given 'image_key_mapped':\")\n",
    "print(mapped_models)\n"
   ]
  },
  {
   "cell_type": "code",
   "execution_count": null,
   "metadata": {},
   "outputs": [],
   "source": []
  }
 ],
 "metadata": {
  "kernelspec": {
   "display_name": "1env",
   "language": "python",
   "name": "python3"
  },
  "language_info": {
   "codemirror_mode": {
    "name": "ipython",
    "version": 3
   },
   "file_extension": ".py",
   "mimetype": "text/x-python",
   "name": "python",
   "nbconvert_exporter": "python",
   "pygments_lexer": "ipython3",
   "version": "3.8.10"
  }
 },
 "nbformat": 4,
 "nbformat_minor": 2
}
