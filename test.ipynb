{
 "cells": [
  {
   "cell_type": "code",
   "execution_count": 3,
   "metadata": {},
   "outputs": [
    {
     "name": "stdout",
     "output_type": "stream",
     "text": [
      "model: flux_chatgpt_ghibli_lora\n",
      "image_key: MEN-Denim-id_00000089-28_1_front.jpg\n",
      "prompt: This gentleman is wearing a medium-sleeve shirt with pure color patterns. The shirt is with cotton fabric and its neckline is lapel. This gentleman wears a long trousers. The trousers are with cotton fabric and solid color patterns.\n",
      "gen_img_path: image_generated/flux_chatgpt_ghibli_lora/MEN-Denim-id_00000089-28_1_front.jpg\n",
      "gender: MEN\n",
      "category: Denim\n",
      "view: front\n",
      "sleeve_length: medium-sleeve\n",
      "lower_clothing_length: long\n",
      "socks: no\n",
      "hat: no\n",
      "glasses: no\n",
      "neckwear: no\n",
      "wrist_wearing: no\n",
      "ring: no\n",
      "waist_accessories: hidden\n",
      "neckline: lapel\n",
      "outer_clothing_cardigan: no\n",
      "upper_clothing_covers_navel: yes\n",
      "upper_fabric: cotton\n",
      "lower_fabric: cotton\n",
      "outer_fabric: nan\n",
      "upper_color: pure color\n",
      "lower_color: pure color\n",
      "outer_color: nan\n",
      "\n",
      "\n",
      "\n"
     ]
    }
   ],
   "source": [
    "csv_path = \"image_generated/gen_img_metadata.csv\"\n",
    "\n",
    "# display first row in vertical format\n",
    "import pandas as pd\n",
    "df = pd.read_csv(csv_path)\n",
    "df = df.iloc[0]\n",
    "for i in range(len(df)):\n",
    "    print(f\"{df.index[i]}: {df[i]}\")\n",
    "print(\"\\n\\n\")"
   ]
  },
  {
   "cell_type": "code",
   "execution_count": 2,
   "metadata": {},
   "outputs": [
    {
     "name": "stdout",
     "output_type": "stream",
     "text": [
      "image_key: MEN-Denim-id_00000089-28_1_front.jpg\n",
      "prompt: This gentleman is wearing a medium-sleeve shirt with pure color patterns. The shirt is with cotton fabric and its neckline is lapel. This gentleman wears a long trousers. The trousers are with cotton fabric and solid color patterns.\n",
      "prompt_MetaData: This gentleman is wearing a medium-sleeve shirt with pure color patterns. The shirt is with cotton fabric and its neckline is lapel. This gentleman wears a long trousers. The trousers are with cotton fabric and solid color patterns. | gender: MEN, category: Denim, view: front, sleeve_length: medium-sleeve, lower_clothing_length: long, socks: no, hat: no, glasses: no, neckwear: no, wrist_wearing: no, ring: no, waist_accessories: hidden, neckline: lapel, outer_clothing_cardigan: no, upper_clothing_covers_navel: yes, upper_fabric: cotton, lower_fabric: cotton, outer_fabric: NA, upper_color: pure color, lower_color: pure color, outer_color: NA\n",
      "\n",
      "\n",
      "\n"
     ]
    }
   ],
   "source": [
    "import pandas as pd\n",
    "\n",
    "metadata_csv_path = \"DeepFashion/captions_sample.csv\"\n",
    "\n",
    "df = pd.read_csv(metadata_csv_path)\n",
    "# display first row in vertical format with column names = \"image_key\",\"prompt\", \"prompt_MetaData\" Only\n",
    "df = df.iloc[0]\n",
    "for i in range(len(df)):\n",
    "    if df.index[i] in [\"image_key\", \"prompt\", \"prompt_MetaData\"]:\n",
    "        print(f\"{df.index[i]}: {df[i]}\")\n",
    "print(\"\\n\\n\")"
   ]
  },
  {
   "cell_type": "code",
   "execution_count": 13,
   "metadata": {},
   "outputs": [
    {
     "name": "stdout",
     "output_type": "stream",
     "text": [
      "CogView\n",
      "Flux\n",
      "Ghibli\n",
      "StableDiffusion\n",
      "123\n"
     ]
    }
   ],
   "source": [
    "import re\n",
    "\n",
    "def sanitize_model_name(name):\n",
    "    mapping = {\n",
    "        \"openfree/flux-chatgpt-ghibli-lora\": \"Ghibli\",\n",
    "        \"stable-diffusion-v1-5/stable-diffusion-v1-5\": \"StableDiffusion\",\n",
    "        \"THUDM/CogView4-6B\": \"CogView\",\n",
    "        \"black-forest-labs/FLUX.1-dev\": \"Flux\"\n",
    "    }\n",
    "    if name in mapping:\n",
    "        return mapping[name]\n",
    "    # Fallback transformation for unknown models\n",
    "    return re.sub(r'[^A-Za-z0-9]+', '_', name.split('/')[-1].split('-')[0])\n",
    "\n",
    "\n",
    "model_name1 = \"THUDM/CogView4-6B\"\n",
    "model_name2= \"black-forest-labs/FLUX.1-dev\"\n",
    "model_name3 = \"openfree/flux-chatgpt-ghibli-lora\"\n",
    "model_name4 = \"stable-diffusion-v1-5/stable-diffusion-v1-5\"\n",
    "model_name5 = \"ABC_XYZ/123-456\"\n",
    "\n",
    "# print all model names\n",
    "print(sanitize_model_name(model_name1))\n",
    "print(sanitize_model_name(model_name2))\n",
    "print(sanitize_model_name(model_name3))\n",
    "print(sanitize_model_name(model_name4))\n",
    "print(sanitize_model_name(model_name5))"
   ]
  },
  {
   "cell_type": "code",
   "execution_count": null,
   "metadata": {},
   "outputs": [],
   "source": []
  }
 ],
 "metadata": {
  "kernelspec": {
   "display_name": "1env",
   "language": "python",
   "name": "python3"
  },
  "language_info": {
   "codemirror_mode": {
    "name": "ipython",
    "version": 3
   },
   "file_extension": ".py",
   "mimetype": "text/x-python",
   "name": "python",
   "nbconvert_exporter": "python",
   "pygments_lexer": "ipython3",
   "version": "3.8.10"
  }
 },
 "nbformat": 4,
 "nbformat_minor": 2
}
